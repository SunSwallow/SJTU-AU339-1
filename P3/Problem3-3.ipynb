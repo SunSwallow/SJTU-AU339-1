{
 "cells": [
  {
   "cell_type": "markdown",
   "metadata": {
    "toc": true
   },
   "source": [
    "<h1>Table of Contents<span class=\"tocSkip\"></span></h1>\n",
    "<div class=\"toc\"><ul class=\"toc-item\"><li><span><a href=\"#直接贪心法，sensor按照节点顺序连接client\" data-toc-modified-id=\"直接贪心法，sensor按照节点顺序连接client-1\"><span class=\"toc-item-num\">1&nbsp;&nbsp;</span>直接贪心法，sensor按照节点顺序连接client</a></span></li><li><span><a href=\"#最近邻贪心法，sensor连接最近的5个client\" data-toc-modified-id=\"最近邻贪心法，sensor连接最近的5个client-2\"><span class=\"toc-item-num\">2&nbsp;&nbsp;</span>最近邻贪心法，sensor连接最近的5个client</a></span></li><li><span><a href=\"#GA启发式\" data-toc-modified-id=\"GA启发式-3\"><span class=\"toc-item-num\">3&nbsp;&nbsp;</span>GA启发式</a></span></li></ul></div>"
   ]
  },
  {
   "cell_type": "code",
   "execution_count": 1,
   "metadata": {},
   "outputs": [],
   "source": [
    "import numpy as np\n",
    "import collections\n",
    "import sys\n",
    "import matplotlib.pyplot as plt\n",
    "from tqdm import tqdm, trange\n",
    "import random \n",
    "import copy\n",
    "%matplotlib inline\n",
    "from util import *\n",
    "\n"
   ]
  },
  {
   "cell_type": "code",
   "execution_count": 1,
   "metadata": {},
   "outputs": [
    {
     "output_type": "execute_result",
     "data": {
      "text/plain": [
       "'\\nNUM_OF_SENSORS = 100\\nNUM_OF_CLIENTS = 100\\nSERVERS_CONNECT_ABILITY = 5\\nCLIENT_CONNECT_NEED = 3\\nSENSOR_DISTANCE = 50\\nLENGTH_OF_SQUARE = 400\\n\\nmaxiter = 100\\nSIZE = 10\\n\\nCROSSOVER_RATE = 0.5\\nMUTATION_RATE = 0.001\\n'"
      ]
     },
     "metadata": {},
     "execution_count": 1
    }
   ],
   "source": [
    "# 以下超参在util中定义了，这里只是为了方便复制\n",
    "# NUM_OF_SENSORS = 100\n",
    "# NUM_OF_CLIENTS = 100\n",
    "# SERVERS_CONNECT_ABILITY = 5\n",
    "# CLIENT_CONNECT_NEED = 3\n",
    "# SENSOR_DISTANCE = 50\n",
    "# LENGTH_OF_SQUARE = 400\n",
    "\n",
    "# maxiter = 100\n",
    "# SIZE = 10\n",
    "\n",
    "# CROSSOVER_RATE = 0.5\n",
    "# MUTATION_RATE = 0.001\n"
   ]
  },
  {
   "cell_type": "code",
   "execution_count": 3,
   "metadata": {},
   "outputs": [
    {
     "output_type": "stream",
     "name": "stdout",
     "text": [
      "理论：75\t贪心：68\t遗传：73\t 最大流:75\n",
      "理论：81\t贪心：72\t遗传：77\t 最大流:78\n",
      "理论：85\t贪心：76\t遗传：82\t 最大流:85\n",
      "理论：91\t贪心：78\t遗传：87\t 最大流:91\n",
      "理论：81\t贪心：75\t遗传：79\t 最大流:79\n",
      "理论：77\t贪心：67\t遗传：71\t 最大流:76\n",
      "理论：68\t贪心：59\t遗传：67\t 最大流:66\n",
      "理论：79\t贪心：71\t遗传：75\t 最大流:79\n",
      "理论：74\t贪心：64\t遗传：69\t 最大流:71\n",
      "理论：83\t贪心：70\t遗传：78\t 最大流:80\n"
     ]
    }
   ],
   "source": [
    "for i in range(10):\n",
    "    seed = np.random.randint(0,1000)\n",
    "    sensors, clients, distances = init_nodes_and_distance_matrix(seed)\n",
    "\n",
    "    tmp = np.zeros_like(distances)\n",
    "    tmp[distances<=SENSOR_DISTANCE] = 1\n",
    "    tmp = np.sum(tmp, axis=0)\n",
    "    max_client = np.sum(tmp>=CLIENT_CONNECT_NEED)\n",
    "\n",
    "    _, num1 = greedy_most_near(sensors, clients, distances)\n",
    "    _, num2,_ = GA(sensors, clients, distances)\n",
    "    _, num3 = max_flow(sensors, clients, distances)\n",
    "\n",
    "    print(\"理论：{}\\t贪心：{}\\t遗传：{}\\t 最大流:{}\".format(max_client, num1, num2, num3))\n",
    "    \n"
   ]
  }
 ],
 "metadata": {
  "kernelspec": {
   "name": "python3",
   "display_name": "Python 3.8.3 64-bit (conda)",
   "metadata": {
    "interpreter": {
     "hash": "6b45d0162cdd5c91d561959b3d5dba6622cb2b0529e122ec43d7e160687839d4"
    }
   }
  },
  "language_info": {
   "codemirror_mode": {
    "name": "ipython",
    "version": 3
   },
   "file_extension": ".py",
   "mimetype": "text/x-python",
   "name": "python",
   "nbconvert_exporter": "python",
   "pygments_lexer": "ipython3",
   "version": "3.8.3-final"
  },
  "toc": {
   "base_numbering": 1,
   "nav_menu": {},
   "number_sections": true,
   "sideBar": true,
   "skip_h1_title": false,
   "title_cell": "Table of Contents",
   "title_sidebar": "Contents",
   "toc_cell": true,
   "toc_position": {},
   "toc_section_display": true,
   "toc_window_display": false
  }
 },
 "nbformat": 4,
 "nbformat_minor": 2
}