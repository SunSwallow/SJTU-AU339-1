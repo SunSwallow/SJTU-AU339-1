{
 "cells": [
  {
   "cell_type": "markdown",
   "metadata": {
    "toc": true
   },
   "source": [
    "<h1>Table of Contents<span class=\"tocSkip\"></span></h1>\n",
    "<div class=\"toc\"><ul class=\"toc-item\"></ul></div>"
   ]
  },
  {
   "cell_type": "code",
   "execution_count": 1,
   "metadata": {},
   "outputs": [],
   "source": [
    "from util import *"
   ]
  },
  {
   "cell_type": "code",
   "execution_count": 15,
   "metadata": {},
   "outputs": [],
   "source": [
    "dist0 = []\n",
    "dist1 = []\n",
    "dist2 = []\n",
    "dist3 = []\n",
    "dist4 = []\n",
    "dist5 = []\n",
    "max0 = []\n",
    "max1 = []\n",
    "max2 = []\n",
    "max3 = []\n",
    "max4 = []\n",
    "max5 = []\n",
    "for seed in range(10):\n",
    "    sensors, clients, distances = init_nodes_and_distance_matrix(seed)\n",
    "    \n",
    "    tmp = np.zeros_like(distances)\n",
    "    tmp[distances<=50] = 1\n",
    "    tmp = np.sum(tmp, axis=0)\n",
    "    maxxxx = np.sum(tmp>=3)\n",
    "    \n",
    "    connection_matrix, num_of_success_clients =  greedy_direct(sensors, clients, distances)\n",
    "    dist0.append(maxxxx - num_of_success_clients)\n",
    "    max0.append(num_of_success_clients)\n",
    "    connection_matrix, num_of_success_clients =  greedy_most_near(sensors, clients, distances)\n",
    "    dist1.append(maxxxx - num_of_success_clients)\n",
    "    max1.append(num_of_success_clients)\n",
    "    maxiter = 100\n",
    "    SIZE = 20\n",
    "    connection_matrix, num_of_success_clients, RankRec =  GA(sensors, clients, distances,maxiter,SIZE)\n",
    "    dist2.append(maxxxx - RankRec[-1])\n",
    "    max2.append(RankRec[-1])\n",
    "    maxiter = 100\n",
    "    SIZE = 40\n",
    "    connection_matrix, num_of_success_clients, RankRec =  GA(sensors, clients, distances,maxiter,SIZE)\n",
    "    dist3.append(maxxxx - RankRec[-1])\n",
    "    max3.append(RankRec[-1])\n",
    "    maxiter = 200\n",
    "    SIZE = 80\n",
    "    connection_matrix, num_of_success_clients, RankRec =  GA(sensors, clients, distances,maxiter,SIZE)\n",
    "    dist4.append(maxxxx - RankRec[-1])\n",
    "    max4.append(RankRec[-1])\n",
    "    connection_matrix, num_of_success_clients =  max_flow(sensors, clients, distances)\n",
    "    dist5.append(maxxxx - num_of_success_clients)\n",
    "    max5.append(num_of_success_clients)\n"
   ]
  },
  {
   "cell_type": "code",
   "execution_count": 9,
   "metadata": {},
   "outputs": [],
   "source": [
    "import pandas as pd"
   ]
  },
  {
   "cell_type": "code",
   "execution_count": 16,
   "metadata": {},
   "outputs": [
    {
     "data": {
      "text/plain": [
       "<matplotlib.axes._subplots.AxesSubplot at 0x22c40cba2b0>"
      ]
     },
     "execution_count": 16,
     "metadata": {},
     "output_type": "execute_result"
    },
    {
     "data": {
      "image/png": "[encoded data removed]",
      "text/plain": [
       "<Figure size 720x360 with 1 Axes>"
      ]
     },
     "metadata": {},
     "output_type": "display_data"
    }
   ],
   "source": [
    "plt.figure(figsize=(10,5))\n",
    "data = pd.DataFrame({'DG':-np.array(dist0),\n",
    "                    'NNG':-np.array(dist1),\n",
    "                    'I-GA(100,20)':-np.array(dist2),\n",
    "                    'I-GA(100,40)':-np.array(dist3),\n",
    "                    'I-GA(200,80)':-np.array(dist4),\n",
    "                    'MF':-np.array(dist5)})\n",
    "plt.ylabel('distance to Max')\n",
    "plt.title('Algorithm Comparison')\n",
    "data.boxplot(['DG','NNG','I-GA(100,20)','I-GA(100,40)','I-GA(200,80)','MF'])"
   ]
  },
  {
   "cell_type": "code",
   "execution_count": 18,
   "metadata": {},
   "outputs": [
    {
     "data": {
      "text/plain": [
       "<matplotlib.axes._subplots.AxesSubplot at 0x22c40cba1d0>"
      ]
     },
     "execution_count": 18,
     "metadata": {},
     "output_type": "execute_result"
    },
    {
     "data": {
      "image/png": "[encoded data removed]",
      "text/plain": [
       "<Figure size 720x360 with 1 Axes>"
      ]
     },
     "metadata": {},
     "output_type": "display_data"
    }
   ],
   "source": [
    "plt.figure(figsize=(10,5))\n",
    "data = pd.DataFrame({'DG':np.array(max0),\n",
    "                    'NNG':np.array(max1),\n",
    "                    'I-GA(100,20)':np.array(max2),\n",
    "                    'I-GA(100,40)':np.array(max3),\n",
    "                    'I-GA(200,80)':np.array(max4),\n",
    "                    'MF':np.array(max5)})\n",
    "plt.ylabel('Max')\n",
    "plt.title('Algorithm Comparison')\n",
    "data.boxplot(['DG','NNG','I-GA(100,20)','I-GA(100,40)','I-GA(200,80)','MF'])"
   ]
  },
  {
   "cell_type": "code",
   "execution_count": 20,
   "metadata": {},
   "outputs": [
    {
     "data": {
      "text/plain": [
       "Text(0.5,1,'Algorithm Comparison')"
      ]
     },
     "execution_count": 20,
     "metadata": {},
     "output_type": "execute_result"
    },
    {
     "data": {
      "image/png": "[encoded data removed]",
      "text/plain": [
       "<Figure size 720x360 with 1 Axes>"
      ]
     },
     "metadata": {},
     "output_type": "display_data"
    }
   ],
   "source": [
    "plt.figure(figsize=(10,5))\n",
    "plt.bar(['DG','NNG','I-GA(100,20)','I-GA(100,40)','I-GA(200,80)','MF'],[np.mean(max0),np.mean(max1),np.mean(max2),\\\n",
    "                                                                       np.mean(max3),np.mean(max4),np.mean(max5)])\n",
    "# data = pd.DataFrame({'DG':-np.array(dist0),\n",
    "#                     'NNG':-np.array(dist1),\n",
    "#                     'I-GA(100,20)':-np.array(dist2),\n",
    "#                     'I-GA(100,40)':-np.array(dist3),\n",
    "#                     'I-GA(200,80)':-np.array(dist4),\n",
    "#                     'MF':-np.array(dist5)})\n",
    "plt.ylabel('Max')\n",
    "plt.title('Algorithm Comparison')\n",
    "# data.boxplot(['DG','NNG','I-GA(100,20)','I-GA(100,40)','I-GA(200,80)','MF'])"
   ]
  },
  {
   "cell_type": "code",
   "execution_count": null,
   "metadata": {},
   "outputs": [],
   "source": []
  },
  {
   "cell_type": "code",
   "execution_count": 14,
   "metadata": {},
   "outputs": [
    {
     "name": "stdout",
     "output_type": "stream",
     "text": [
      "Wall time: 2.09 s\n"
     ]
    }
   ],
   "source": [
    "%%time\n",
    "maxiter = 200\n",
    "SIZE = 80\n",
    "connection_matrix, num_of_success_clients, RankRec =  GA(sensors, clients, distances,maxiter,SIZE)\n",
    "\n",
    "# connection_matrix, num_of_success_clients =  max_flow(sensors, clients, distances)"
   ]
  },
  {
   "cell_type": "code",
   "execution_count": 15,
   "metadata": {},
   "outputs": [
    {
     "data": {
      "text/plain": [
       "79"
      ]
     },
     "execution_count": 15,
     "metadata": {},
     "output_type": "execute_result"
    }
   ],
   "source": [
    "RankRec[-1]"
   ]
  },
  {
   "cell_type": "code",
   "execution_count": 16,
   "metadata": {},
   "outputs": [
    {
     "name": "stdout",
     "output_type": "stream",
     "text": [
      "Wall time: 2.38 s\n"
     ]
    }
   ],
   "source": [
    "%%time\n",
    "connection_matrix, num_of_success_clients =  max_flow(sensors, clients, distances)"
   ]
  },
  {
   "cell_type": "code",
   "execution_count": 17,
   "metadata": {},
   "outputs": [
    {
     "data": {
      "text/plain": [
       "81"
      ]
     },
     "execution_count": 17,
     "metadata": {},
     "output_type": "execute_result"
    }
   ],
   "source": [
    "num_of_success_clients"
   ]
  },
  {
   "cell_type": "code",
   "execution_count": null,
   "metadata": {},
   "outputs": [],
   "source": []
  },
  {
   "cell_type": "code",
   "execution_count": null,
   "metadata": {},
   "outputs": [],
   "source": []
  }
 ],
 "metadata": {
  "kernelspec": {
   "display_name": "Python 3",
   "language": "python",
   "name": "python3"
  },
  "language_info": {
   "codemirror_mode": {
    "name": "ipython",
    "version": 3
   },
   "file_extension": ".py",
   "mimetype": "text/x-python",
   "name": "python",
   "nbconvert_exporter": "python",
   "pygments_lexer": "ipython3",
   "version": "3.6.4"
  },
  "toc": {
   "base_numbering": 1,
   "nav_menu": {},
   "number_sections": true,
   "sideBar": true,
   "skip_h1_title": false,
   "title_cell": "Table of Contents",
   "title_sidebar": "Contents",
   "toc_cell": true,
   "toc_position": {},
   "toc_section_display": true,
   "toc_window_display": false
  }
 },
 "nbformat": 4,
 "nbformat_minor": 2
}
