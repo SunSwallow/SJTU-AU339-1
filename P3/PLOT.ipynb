{
 "cells": [
  {
   "cell_type": "markdown",
   "metadata": {
    "toc": true
   },
   "source": [
    "<h1>Table of Contents<span class=\"tocSkip\"></span></h1>\n",
    "<div class=\"toc\"><ul class=\"toc-item\"></ul></div>"
   ]
  },
  {
   "cell_type": "code",
   "execution_count": 1,
   "metadata": {},
   "outputs": [],
   "source": [
    "from util import *"
   ]
  },
  {
   "cell_type": "code",
   "execution_count": 2,
   "metadata": {},
   "outputs": [],
   "source": [
    "dist0 = []\n",
    "dist1 = []\n",
    "dist2 = []\n",
    "dist3 = []\n",
    "dist4 = []\n",
    "dist5 = []\n",
    "for seed in range(10):\n",
    "    sensors, clients, distances = init_nodes_and_distance_matrix(seed)\n",
    "    \n",
    "    tmp = np.zeros_like(distances)\n",
    "    tmp[distances<=50] = 1\n",
    "    tmp = np.sum(tmp, axis=0)\n",
    "    maxxxx = np.sum(tmp>=3)\n",
    "    \n",
    "    connection_matrix, num_of_success_clients =  greedy_direct(sensors, clients, distances)\n",
    "    dist0.append(maxxxx - num_of_success_clients)\n",
    "    \n",
    "    connection_matrix, num_of_success_clients =  greedy_most_near(sensors, clients, distances)\n",
    "    dist1.append(maxxxx - num_of_success_clients)\n",
    "    maxiter = 100\n",
    "    SIZE = 20\n",
    "    connection_matrix, num_of_success_clients, RankRec =  GA(sensors, clients, distances,maxiter,SIZE)\n",
    "    dist2.append(maxxxx - RankRec[-1])\n",
    "    maxiter = 100\n",
    "    SIZE = 40\n",
    "    connection_matrix, num_of_success_clients, RankRec =  GA(sensors, clients, distances,maxiter,SIZE)\n",
    "    dist3.append(maxxxx - RankRec[-1])\n",
    "    \n",
    "    maxiter = 200\n",
    "    SIZE = 40\n",
    "    connection_matrix, num_of_success_clients, RankRec =  GA(sensors, clients, distances,maxiter,SIZE)\n",
    "    dist4.append(maxxxx - RankRec[-1])\n",
    "    \n",
    "    connection_matrix, num_of_success_clients =  max_flow(sensors, clients, distances)\n",
    "    dist5.append(maxxxx - num_of_success_clients)\n",
    "\n"
   ]
  },
  {
   "cell_type": "code",
   "execution_count": 3,
   "metadata": {},
   "outputs": [],
   "source": [
    "import pandas as pd"
   ]
  },
  {
   "cell_type": "code",
   "execution_count": 4,
   "metadata": {},
   "outputs": [
    {
     "data": {
      "text/plain": [
       "<matplotlib.axes._subplots.AxesSubplot at 0x22c3c0165f8>"
      ]
     },
     "execution_count": 4,
     "metadata": {},
     "output_type": "execute_result"
    },
    {
     "data": {
      "image/png": "[encoded data removed]",
      "text/plain": [
       "<Figure size 432x288 with 1 Axes>"
      ]
     },
     "metadata": {},
     "output_type": "display_data"
    }
   ],
   "source": [
    "data = pd.DataFrame({'greedy':dist0,\n",
    "                    'near_greedy':dist1,\n",
    "                    'GA100_20':dist2,\n",
    "                    'GA100_40':dist3,\n",
    "                    'GA200_80':dist4,\n",
    "                    'max_flow':dist5})\n",
    "plt.ylabel('distance to Max')\n",
    "data.boxplot()"
   ]
  },
  {
   "cell_type": "code",
   "execution_count": null,
   "metadata": {},
   "outputs": [],
   "source": []
  },
  {
   "cell_type": "code",
   "execution_count": 14,
   "metadata": {},
   "outputs": [
    {
     "name": "stdout",
     "output_type": "stream",
     "text": [
      "Wall time: 2.09 s\n"
     ]
    }
   ],
   "source": [
    "%%time\n",
    "maxiter = 200\n",
    "SIZE = 80\n",
    "connection_matrix, num_of_success_clients, RankRec =  GA(sensors, clients, distances,maxiter,SIZE)\n",
    "\n",
    "# connection_matrix, num_of_success_clients =  max_flow(sensors, clients, distances)"
   ]
  },
  {
   "cell_type": "code",
   "execution_count": 15,
   "metadata": {},
   "outputs": [
    {
     "data": {
      "text/plain": [
       "79"
      ]
     },
     "execution_count": 15,
     "metadata": {},
     "output_type": "execute_result"
    }
   ],
   "source": [
    "RankRec[-1]"
   ]
  },
  {
   "cell_type": "code",
   "execution_count": 16,
   "metadata": {},
   "outputs": [
    {
     "name": "stdout",
     "output_type": "stream",
     "text": [
      "Wall time: 2.38 s\n"
     ]
    }
   ],
   "source": [
    "%%time\n",
    "connection_matrix, num_of_success_clients =  max_flow(sensors, clients, distances)"
   ]
  },
  {
   "cell_type": "code",
   "execution_count": 17,
   "metadata": {},
   "outputs": [
    {
     "data": {
      "text/plain": [
       "81"
      ]
     },
     "execution_count": 17,
     "metadata": {},
     "output_type": "execute_result"
    }
   ],
   "source": [
    "num_of_success_clients"
   ]
  },
  {
   "cell_type": "code",
   "execution_count": null,
   "metadata": {},
   "outputs": [],
   "source": []
  },
  {
   "cell_type": "code",
   "execution_count": null,
   "metadata": {},
   "outputs": [],
   "source": []
  }
 ],
 "metadata": {
  "kernelspec": {
   "display_name": "Python 3",
   "language": "python",
   "name": "python3"
  },
  "language_info": {
   "codemirror_mode": {
    "name": "ipython",
    "version": 3
   },
   "file_extension": ".py",
   "mimetype": "text/x-python",
   "name": "python",
   "nbconvert_exporter": "python",
   "pygments_lexer": "ipython3",
   "version": "3.6.4"
  },
  "toc": {
   "base_numbering": 1,
   "nav_menu": {},
   "number_sections": true,
   "sideBar": true,
   "skip_h1_title": false,
   "title_cell": "Table of Contents",
   "title_sidebar": "Contents",
   "toc_cell": true,
   "toc_position": {},
   "toc_section_display": true,
   "toc_window_display": false
  }
 },
 "nbformat": 4,
 "nbformat_minor": 2
}
