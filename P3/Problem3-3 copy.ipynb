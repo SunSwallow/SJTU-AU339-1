{
 "cells": [
  {
   "cell_type": "markdown",
   "metadata": {
    "toc": true
   },
   "source": [
    "<h1>Table of Contents<span class=\"tocSkip\"></span></h1>\n",
    "<div class=\"toc\"><ul class=\"toc-item\"><li><span><a href=\"#直接贪心法，sensor按照节点顺序连接client\" data-toc-modified-id=\"直接贪心法，sensor按照节点顺序连接client-1\"><span class=\"toc-item-num\">1&nbsp;&nbsp;</span>直接贪心法，sensor按照节点顺序连接client</a></span></li><li><span><a href=\"#最近邻贪心法，sensor连接最近的5个client\" data-toc-modified-id=\"最近邻贪心法，sensor连接最近的5个client-2\"><span class=\"toc-item-num\">2&nbsp;&nbsp;</span>最近邻贪心法，sensor连接最近的5个client</a></span></li><li><span><a href=\"#GA启发式\" data-toc-modified-id=\"GA启发式-3\"><span class=\"toc-item-num\">3&nbsp;&nbsp;</span>GA启发式</a></span></li></ul></div>"
   ]
  },
  {
   "cell_type": "code",
   "execution_count": 335,
   "metadata": {},
   "outputs": [],
   "source": [
    "import numpy as np\n",
    "import collections\n",
    "import sys\n",
    "import matplotlib.pyplot as plt\n",
    "from tqdm import tqdm, trange\n",
    "import random \n",
    "import copy\n",
    "%matplotlib inline\n",
    "from util import *\n"
   ]
  },
  {
   "cell_type": "code",
   "execution_count": 336,
   "metadata": {},
   "outputs": [],
   "source": [
    "P_1v1 = 0.044006"
   ]
  },
  {
   "cell_type": "code",
   "execution_count": 337,
   "metadata": {},
   "outputs": [],
   "source": [
    "NUM_OF_SENSORS = 100\n",
    "NUM_OF_CLIENTS = 300\n",
    "SERVERS_CONNECT_ABILITY = 5\n",
    "CLIENT_CONNECT_NEED = 3\n",
    "SENSOR_DISTANCE = 50\n",
    "LENGTH_OF_SQUARE = 400\n",
    "\n",
    "maxiter = 100\n",
    "SIZE = 10\n",
    "\n",
    "CROSSOVER_RATE = 0.5\n",
    "MUTATION_RATE = 0.001"
   ]
  },
  {
   "cell_type": "code",
   "execution_count": 338,
   "metadata": {},
   "outputs": [
    {
     "output_type": "stream",
     "name": "stdout",
     "text": [
      "理论最高连接数：71\n"
     ]
    }
   ],
   "source": [
    "\n",
    "def init_nodes_and_distance_matrix(seed=15):\n",
    "    '''\n",
    "    初始化传感器sensors, 被感知节点clients 和 距离矩阵 distances\n",
    "    sensors: array, (100,2)\n",
    "    clients: array, (100,2)\n",
    "    distances: array, (100,100), 大于等于50的距离直接置为inf\n",
    "    '''\n",
    "    sensors = []\n",
    "    clients = []\n",
    "    distances = np.ones((NUM_OF_SENSORS,NUM_OF_CLIENTS))\n",
    "    np.random.seed(seed)\n",
    "    for i in range(NUM_OF_SENSORS):\n",
    "        sensors.append([np.random.uniform(0,LENGTH_OF_SQUARE),np.random.uniform(0,LENGTH_OF_SQUARE)])\n",
    "    for i in range(NUM_OF_CLIENTS):\n",
    "        clients.append([np.random.uniform(0,LENGTH_OF_SQUARE),np.random.uniform(0,LENGTH_OF_SQUARE)])\n",
    "        \n",
    "    sensors = np.array(sensors)\n",
    "    clients = np.array(clients)\n",
    "    for i in range(NUM_OF_SENSORS):\n",
    "        for j in range(NUM_OF_CLIENTS):\n",
    "            dis = np.sqrt(np.sum(np.square(sensors[i] - clients[j])))\n",
    "            distances[i][j] = dis if dis<=SENSOR_DISTANCE else float('inf')\n",
    "\n",
    "    return sensors, clients, distances\n",
    "\n",
    "    \n",
    "sensors, clients, distances = init_nodes_and_distance_matrix()\n",
    "\n",
    "\n",
    "tmp = np.zeros_like(distances)\n",
    "tmp[distances<=50] = 1\n",
    "tmp = np.sum(tmp, axis=0)\n",
    "print(\"理论最高连接数：{}\".format(np.sum(tmp>=3)))"
   ]
  },
  {
   "cell_type": "code",
   "execution_count": 339,
   "metadata": {},
   "outputs": [],
   "source": [
    "\n",
    "# 绘图程序\n",
    "\n",
    "def draw_picture(sensors, clients, distances, connection_matrix):\n",
    "    f = plt.figure(figsize=(40,40))\n",
    "    ax = plt.subplot(1,1,1)\n",
    "    ax.scatter(sensors[:,0],sensors[:,1], c = 'r',marker='*')\n",
    "    ax.scatter(clients[:,0],clients[:,1], c = 'b',marker='o')\n",
    "\n",
    "    for i in range(NUM_OF_SENSORS): # 绘制所有在检测范围内的线\n",
    "        for j in range(NUM_OF_CLIENTS):\n",
    "            if distances[i][j] <= SENSOR_DISTANCE:\n",
    "                ax.plot((sensors[i][0],clients[j][0]), (sensors[i][1],clients[j][1]), 'g-.')\n",
    "\n",
    "    for i in range(NUM_OF_SENSORS): # 对于每一个sensor，绘制其检测范围内以最大连接能力可以连接的最近的点\n",
    "        for j in range(NUM_OF_CLIENTS):\n",
    "            if connection_matrix[i][j] == 1:\n",
    "                ax.plot((sensors[i][0],clients[j][0]), (sensors[i][1],clients[j][1]), 'r-')\n",
    "    \n",
    "    for j in range(NUM_OF_CLIENTS): #绘制检测成功的client\n",
    "        if np.sum(connection_matrix[:,j])>=CLIENT_CONNECT_NEED:\n",
    "            ax.scatter(clients[j][0],clients[j][1], c = 'k',marker='o',s = 160)\n",
    "\n",
    "    \n",
    "    ax.set_ylim(0,LENGTH_OF_SQUARE)\n",
    "    ax.set_xlim(0,LENGTH_OF_SQUARE)\n",
    "    \n"
   ]
  },
  {
   "cell_type": "markdown",
   "metadata": {},
   "source": [
    "##  直接贪心法，sensor按照节点顺序连接client"
   ]
  },
  {
   "cell_type": "code",
   "execution_count": 340,
   "metadata": {},
   "outputs": [],
   "source": [
    "def greedy_direct(sensors, clients, distances):\n",
    "    sensor_connecttion = np.zeros((NUM_OF_SENSORS,1))\n",
    "    client_connecttion = np.zeros((NUM_OF_CLIENTS,1))\n",
    "    connection_matrix = np.zeros((NUM_OF_SENSORS, NUM_OF_CLIENTS)) # connects_matrix[i][j]=1 代表i号sensor决定连接j号client\n",
    "    # 这个函数用来储存每个sensor连接其检测能力下的最近的n个client, 也可以说是决定连接的client,不过没有必要最终使得每个决定连接的client都有足够多（CLIENT_CONNECT_NEED）个server连接\n",
    "                \n",
    "    for i in range(NUM_OF_SENSORS):\n",
    "        for j in range(NUM_OF_CLIENTS):\n",
    "            if (np.sum(np.square(sensors[i] - clients[j])) <= SENSOR_DISTANCE ** 2) and (sensor_connecttion[i][0] < 5) :\n",
    "                sensor_connecttion[i][0] += 1\n",
    "                client_connecttion[j][0] += 1\n",
    "                assert connection_matrix[i][j] == 0\n",
    "                connection_matrix[i][j] = 1\n",
    "\n",
    "\n",
    "    num_of_success_clients = len(client_connecttion[client_connecttion>=CLIENT_CONNECT_NEED])\n",
    "    \n",
    "    return connection_matrix, num_of_success_clients\n",
    "\n",
    "connection_matrix, num_of_success_clients =  greedy_direct(sensors, clients, distances)\n",
    "# print(num_of_success_clients)\n",
    "# draw_picture(sensors, clients, distances, connection_matrix)\n"
   ]
  },
  {
   "cell_type": "markdown",
   "metadata": {},
   "source": [
    "## 最近邻贪心法，sensor连接最近的5个client"
   ]
  },
  {
   "cell_type": "code",
   "execution_count": 341,
   "metadata": {
    "scrolled": false,
    "tags": []
   },
   "outputs": [],
   "source": [
    "def greedy(sensors, clients, distances):\n",
    "    sensor_connecttion = np.zeros((NUM_OF_SENSORS,1))\n",
    "    client_connecttion = np.zeros((NUM_OF_CLIENTS,1))\n",
    "    connection_matrix = np.zeros((NUM_OF_SENSORS, NUM_OF_CLIENTS)) # connects_matrix[i][j]=1 代表i号sensor决定连接j号client\n",
    "    # 这个函数用来储存每个sensor连接其检测能力下的最近的n个client, 也可以说是决定连接的client,不过没有必要最终使得每个决定连接的client都有足够多（CLIENT_CONNECT_NEED）个server连接\n",
    "                \n",
    "    for i in range(NUM_OF_SENSORS):\n",
    "        sortdist = np.sort(distances[i])\n",
    "        for j in np.argsort(distances[i])[:min(SERVERS_CONNECT_ABILITY,len(sortdist[sortdist <= SENSOR_DISTANCE]))]:\n",
    "            sensor_connecttion[i][0] += 1\n",
    "            client_connecttion[j][0] += 1\n",
    "            assert connection_matrix[i][j] == 0\n",
    "            connection_matrix[i][j] = 1\n",
    "\n",
    "    '''\n",
    "    potentialConnect = {}\n",
    "    potentialConnectDist = {}\n",
    "    potentialConnectFlag = {}\n",
    "    for i in range(NUM_OF_SENSORS):\n",
    "        length = len(np.argwhere(distances[i,:] <= SENSOR_DISTANCE).reshape(1,-1)[0])\n",
    "        potentialConnect[i] = (distances[i,:]).argsort()[:length]\n",
    "        potentialConnectDist[i] = distances[i,:][(distances[i,:]).argsort()][:length]\n",
    "        potentialConnectFlag[i] = np.zeros((length,1))\n",
    "    '''\n",
    "    num_of_success_clients = len(client_connecttion[client_connecttion>=CLIENT_CONNECT_NEED])\n",
    "    \n",
    "    return connection_matrix, num_of_success_clients\n",
    "\n",
    "\n",
    "\n",
    "\n",
    "connection_matrix, num_of_success_clients =  greedy(sensors, clients, distances)\n",
    "# print(num_of_success_clients)\n",
    "# draw_picture(sensors, clients, distances, connection_matrix)"
   ]
  },
  {
   "cell_type": "code",
   "execution_count": 341,
   "metadata": {},
   "outputs": [],
   "source": [
    "\n"
   ]
  },
  {
   "cell_type": "code",
   "execution_count": null,
   "metadata": {},
   "outputs": [],
   "source": []
  },
  {
   "cell_type": "markdown",
   "metadata": {},
   "source": [
    "## GA启发式"
   ]
  },
  {
   "cell_type": "code",
   "execution_count": null,
   "metadata": {},
   "outputs": [],
   "source": []
  },
  {
   "cell_type": "code",
   "execution_count": 342,
   "metadata": {},
   "outputs": [
    {
     "output_type": "stream",
     "name": "stdout",
     "text": [
      "70\n"
     ]
    }
   ],
   "source": [
    "\n",
    "def GA(sensors, clients, distances):\n",
    "    potentialConnect = {}\n",
    "    potentialConnectDist = {}\n",
    "    potentialConnectFlag = {}\n",
    "    for i in range(NUM_OF_SENSORS):\n",
    "        length = len(np.argwhere(distances[i,:] <= SENSOR_DISTANCE).reshape(1,-1)[0])\n",
    "        potentialConnect[i] = (distances[i,:]).argsort()[:length] \n",
    "        potentialConnectDist[i] = distances[i,:][(distances[i,:]).argsort()][:length] \n",
    "        potentialConnectFlag[i] = np.zeros((length,1))\n",
    "\n",
    "    connetion = np.zeros((NUM_OF_SENSORS,NUM_OF_CLIENTS))\n",
    "    Gene = []\n",
    "    PotentialGene = []\n",
    "    for key in potentialConnect.keys():\n",
    "        if len(potentialConnect[key]) <= SERVERS_CONNECT_ABILITY:\n",
    "            for i in potentialConnect[key]:\n",
    "                connetion[key][i] = 1\n",
    "        else:\n",
    "            Gene.append(key)\n",
    "            PotentialGene.append(potentialConnect[key])\n",
    "\n",
    "    def measureConnection(connetion):\n",
    "        return np.sum(np.sum(connetion,axis=0)>=CLIENT_CONNECT_NEED)\n",
    "\n",
    "    def measureGene(sole):\n",
    "        tmpConnect = copy.deepcopy(connetion)\n",
    "        for i in range(len(Gene)):\n",
    "            for j in sole[i]:\n",
    "                tmpConnect[Gene[i]][j] = 1\n",
    "        return measureConnection(tmpConnect)\n",
    "\n",
    "    def crossover_and_mutation(pop, CROSSOVER_RATE = 0.5):\n",
    "        new_pop = []\n",
    "        for father in pop:  \n",
    "            child = father  \n",
    "            if np.random.rand() < CROSSOVER_RATE: \n",
    "                mother = pop[np.random.randint(SIZE)]  \n",
    "                cross_points = np.random.randint(0, len(child))  \n",
    "                child[cross_points:] = mother[cross_points:] \n",
    "            mutation(child)  \n",
    "            new_pop.append(child)\n",
    "        return new_pop\n",
    "\n",
    "    def mutation(child, MUTATION_RATE= 0.1):\n",
    "        if np.random.rand() < MUTATION_RATE:  \n",
    "            mutate_point = np.random.randint(0, len(child))  \n",
    "            child[mutate_point] =  np.random.choice(PotentialGene[mutate_point],SERVERS_CONNECT_ABILITY, replace=False)\n",
    "\n",
    "    def get_fitness(ranks): \n",
    "        return ((np.array(ranks) - min(ranks) )* 2) ** 2 + 1e-3 \n",
    "\n",
    "\n",
    "    def select(pop, fitness):    # nature selection wrt pop's fitness\n",
    "        idx = np.random.choice(np.arange(SIZE), size=SIZE, replace=True,\n",
    "                               p=(fitness)/(fitness.sum()) )\n",
    "        return [pop[i] for i in idx]\n",
    "    Pop = []\n",
    "    Rank = []\n",
    "    \n",
    "    for leng in range(SIZE):\n",
    "        sole = []\n",
    "        tmpConnect = copy.deepcopy(connetion)\n",
    "        for i in range(len(Gene)):\n",
    "            snrs = np.random.choice(PotentialGene[i],SERVERS_CONNECT_ABILITY, replace=False)\n",
    "            sole.append(snrs)\n",
    "            for j in snrs:\n",
    "                tmpConnect[Gene[i]][j] = 1\n",
    "        Pop.append(sole)\n",
    "        Rank.append(measureConnection(tmpConnect))\n",
    "\n",
    "    maxitem = Pop[Rank.index(max(Rank))]\n",
    "    maxium = max(Rank)\n",
    "    RankRec = []\n",
    "\n",
    "    for _ in range(maxiter):\n",
    "        Pop = crossover_and_mutation(Pop)\n",
    "        ranks = [0 for i in range(SIZE)]\n",
    "        for i in range(SIZE):\n",
    "            ranks[i] = measureGene(Pop[i])\n",
    "\n",
    "        if max(ranks) >= maxium:\n",
    "            maxium = max(ranks)\n",
    "            maxitem = copy.deepcopy(Pop[ranks.index(max(ranks))])\n",
    "        Pop[ranks.index(min(ranks))] = copy.deepcopy(maxitem) \n",
    "        ranks[ranks.index(min(ranks))] = maxium\n",
    "        if _ == maxiter:\n",
    "            break\n",
    "\n",
    "        fitness = get_fitness(ranks)\n",
    "\n",
    "        Pop = select(Pop, fitness)\n",
    "        RankRec.append(max(ranks))\n",
    "\n",
    "    \n",
    "    sole = maxitem\n",
    "    \n",
    "    tmpConnect = copy.deepcopy(connetion)\n",
    "    for i in range(len(Gene)):\n",
    "        for j in sole[i]:\n",
    "            tmpConnect[Gene[i]][j] = 1\n",
    "\n",
    "\n",
    "        \n",
    "    return tmpConnect, np.sum(np.sum(tmpConnect,axis=0)>=CLIENT_CONNECT_NEED), RankRec\n",
    "\n",
    "\n",
    "\n",
    "\n",
    "connection_matrix, num_of_success_clients, RankRec =  GA(sensors, clients, distances)\n",
    "print(num_of_success_clients)\n",
    "# draw_picture(sensors, clients, distances, connection_matrix)"
   ]
  },
  {
   "cell_type": "code",
   "execution_count": 343,
   "metadata": {},
   "outputs": [],
   "source": [
    "# plt.plot(RankRec)"
   ]
  },
  {
   "cell_type": "code",
   "execution_count": null,
   "metadata": {},
   "outputs": [],
   "source": [
    "class Graph: \n",
    "    def __init__(self,graph): \n",
    "        self.graph = graph \n",
    "        self.ROW = len(graph) \n",
    "        self.Origingraph = copy.deepcopy(graph) \n",
    "        self.TMPgraph = copy.deepcopy(graph) \n",
    "        self.iter = 0\n",
    "        #初始温度，停止温度与降温系数\n",
    "        self.maxiter = 10000\n",
    "        self.tmp = 1e5\n",
    "        self.tmp_min = 1e-3\n",
    "        self.alpha = 0.98\n",
    "\n",
    "    def bfs(self, s, t, parent):\n",
    "        visited = [False]*self.ROW\n",
    "        queue = [s] \n",
    "        visited[s] = True\n",
    "\n",
    "        while queue: \n",
    "            u = queue.pop(0) \n",
    "            for ind, val in enumerate(self.graph[u]): \n",
    "                if visited[ind] == False and val > 0 : \n",
    "                    queue.append(ind) \n",
    "                    visited[ind] = True\n",
    "                    parent[ind] = u \n",
    "        return True if visited[t] else False\n",
    "    \n",
    "    def FordFulkerson(self, source, sink): \n",
    "        parent = [-1]*self.ROW \n",
    "  \n",
    "        max_flow = 0 \n",
    "        \n",
    "        while self.bfs(source, sink, parent): #判断增广路径 \n",
    "            path_flow, s = float(\"Inf\"), sink\n",
    "            while s != source: \n",
    "                #计算增广路径的最小流量，通过最小流量计算残差网络\n",
    "                path_flow = min(path_flow, self.graph[parent[s]][s]) \n",
    "                s = parent[s] \n",
    "\n",
    "            max_flow += path_flow \n",
    "            v = sink \n",
    "            while v != source: #计算残差网络\n",
    "                u = parent[v] \n",
    "                self.graph[u][v] -= path_flow \n",
    "                self.graph[v][u] += path_flow \n",
    "                v = parent[v] \n",
    "\n",
    "        return max_flow \n",
    "    \n",
    "\n",
    "def max_flow(sensors, clients, distances):\n",
    "    tmp = np.zeros_like(distances)\n",
    "    tmp[distances<=SENSOR_DISTANCE] = 1\n",
    "\n",
    "    total_graph = np.zeros((NUM_OF_SENSORS+NUM_OF_CLIENTS+2,NUM_OF_SENSORS+NUM_OF_CLIENTS+2))\n",
    "    total_graph[0, 1:1+NUM_OF_SENSORS]=SERVERS_CONNECT_ABILITY\n",
    "    total_graph[1+NUM_OF_SENSORS:1 + NUM_OF_SENSORS+NUM_OF_CLIENTS,1 + NUM_OF_SENSORS+NUM_OF_CLIENTS]=CLIENT_CONNECT_NEED\n",
    "    total_graph[1:1+NUM_OF_SENSORS,1+NUM_OF_SENSORS:1 + NUM_OF_SENSORS+NUM_OF_CLIENTS]=tmp\n",
    "\n",
    "    g = Graph(total_graph) \n",
    "    source = 0; sink = 1 + NUM_OF_SENSORS+NUM_OF_CLIENTS\n",
    "    g.FordFulkerson(source,sink)\n",
    "    connection_matrix = np.transpose(np.array(g.graph[1+NUM_OF_SENSORS:1 + NUM_OF_SENSORS+NUM_OF_CLIENTS, 1:1+NUM_OF_SENSORS]))\n",
    "\n",
    "    # 询问部分, 连接数为2的client去询问其他连接数不足的client，是否能够通过交换连接达到增加的目的\n",
    "    flag = True\n",
    "    while flag:\n",
    "        flag, tmp = query(connection_matrix, distances)\n",
    "        if flag:\n",
    "            connection_matrix = tmp\n",
    "            # print(np.count_nonzero(np.sum(connection_matrix, axis=0)>=CLIENT_CONNECT_NEED))\n",
    "\n",
    "    return connection_matrix, np.count_nonzero(np.sum(connection_matrix, axis = 0)>=CLIENT_CONNECT_NEED)\n",
    "\n",
    "\n",
    "def query(connection_matrix, distances):\n",
    "\n",
    "    tmp = np.zeros_like(distances)\n",
    "    tmp[distances<=SENSOR_DISTANCE] = 1\n",
    "\n",
    "    clients_with_2_server = list(np.where(np.sum(connection_matrix, axis = 0)==2)[0])\n",
    "    clients_with_1_server = list(np.where(np.sum(connection_matrix, axis = 0)==1)[0])\n",
    "    clients_not_enough = clients_with_2_server + clients_with_1_server\n",
    "    for i in clients_with_2_server:\n",
    "        for j in clients_not_enough:\n",
    "            if i==j:\n",
    "                continue\n",
    "            same_servers = np.where(tmp[:,i]*connection_matrix[:,j]*(1-connection_matrix[:,i])==1)[0]\n",
    "            if len(same_servers)==0:\n",
    "                continue\n",
    "            for server in same_servers:\n",
    "                if np.sum(connection_matrix[server,:])<SERVERS_CONNECT_ABILITY: # 未达到最大限制，说明没有必要交换\n",
    "                    continue\n",
    "                else:\n",
    "                    # print(\"交换连接\")\n",
    "                    connection_matrix[server,i]=1\n",
    "                    connection_matrix[server,j]=0\n",
    "                    return True,connection_matrix\n",
    "    return False,0\n"
   ]
  },
  {
   "cell_type": "code",
   "execution_count": 353,
   "metadata": {},
   "outputs": [
    {
     "output_type": "stream",
     "name": "stdout",
     "text": [
      "理论：71\t贪心：62\t遗传：70\t 最大流:71\n",
      "理论：83\t贪心：68\t遗传：78\t 最大流:82\n",
      "理论：68\t贪心：60\t遗传：67\t 最大流:67\n",
      "理论：80\t贪心：72\t遗传：79\t 最大流:80\n",
      "理论：85\t贪心：73\t遗传：78\t 最大流:82\n",
      "理论：64\t贪心：53\t遗传：60\t 最大流:61\n",
      "理论：81\t贪心：71\t遗传：77\t 最大流:81\n",
      "理论：75\t贪心：68\t遗传：74\t 最大流:75\n",
      "理论：80\t贪心：71\t遗传：77\t 最大流:80\n",
      "理论：79\t贪心：74\t遗传：77\t 最大流:79\n"
     ]
    }
   ],
   "source": [
    "for i in range(10):\n",
    "    seed = np.random.randint(0,1000)\n",
    "    sensors, clients, distances = init_nodes_and_distance_matrix(seed)\n",
    "\n",
    "    tmp = np.zeros_like(distances)\n",
    "    tmp[distances<=50] = 1\n",
    "    tmp = np.sum(tmp, axis=0)\n",
    "    max_client = np.sum(tmp>=3)\n",
    "\n",
    "    _, num1 = greedy(sensors, clients, distances)\n",
    "    _, num2,_ = GA(sensors, clients, distances)\n",
    "    _, num3 = max_flow(sensors, clients, distances)\n",
    "\n",
    "    print(\"理论：{}\\t贪心：{}\\t遗传：{}\\t 最大流:{}\".format(max_client, num1, num2, num3))\n",
    "    \n"
   ]
  },
  {
   "cell_type": "code",
   "execution_count": 307,
   "metadata": {
    "tags": []
   },
   "outputs": [],
   "source": [
    "import copy\n"
   ]
  },
  {
   "cell_type": "code",
   "execution_count": 308,
   "metadata": {},
   "outputs": [
    {
     "output_type": "stream",
     "name": "stdout",
     "text": [
      "74\n"
     ]
    }
   ],
   "source": [
    "sensors, clients, distances = init_nodes_and_distance_matrix(12314)\n",
    "\n",
    "\n",
    "connection_matrix, num = max_flow(sensors, clients, distances)\n",
    "print(num)\n",
    "# draw_picture(sensors, clients, distances, connection_matrix)\n"
   ]
  },
  {
   "cell_type": "code",
   "execution_count": 309,
   "metadata": {},
   "outputs": [
    {
     "output_type": "stream",
     "name": "stdout",
     "text": [
      "73\n"
     ]
    }
   ],
   "source": [
    "sensors, clients, distances = init_nodes_and_distance_matrix(12314)\n",
    "\n",
    "\n",
    "connection_matrix, num,_ = GA(sensors, clients, distances)\n",
    "print(num)\n",
    "# draw_picture(sensors, clients, distances, connection_matrix)"
   ]
  },
  {
   "cell_type": "code",
   "execution_count": 330,
   "metadata": {},
   "outputs": [
    {
     "output_type": "stream",
     "name": "stdout",
     "text": [
      "73\n73\n"
     ]
    }
   ],
   "source": [
    "sensors, clients, distances = init_nodes_and_distance_matrix(seed)\n",
    "connection_matrix, num3 = max_flow(sensors, clients, distances)\n",
    "print(np.count_nonzero(np.sum(connection_matrix, axis=0)>=3))\n",
    "print(num3)\n",
    "\n",
    "\n",
    "NUM_OF_SENSORS = 100\n",
    "NUM_OF_CLIENTS = 100\n",
    "SERVERS_CONNECT_ABILITY = 5\n",
    "CLIENT_CONNECT_NEED = 3\n",
    "SENSOR_DISTANCE = 50\n",
    "LENGTH_OF_SQUARE = 400\n",
    "\n",
    "maxiter = 100\n",
    "SIZE = 10\n",
    "\n",
    "CROSSOVER_RATE = 0.5\n",
    "MUTATION_RATE = 0.001\n",
    "\n",
    "\n",
    "\n"
   ]
  },
  {
   "cell_type": "code",
   "execution_count": null,
   "metadata": {},
   "outputs": [],
   "source": []
  }
 ],
 "metadata": {
  "kernelspec": {
   "name": "python3",
   "display_name": "Python 3.8.3 64-bit (conda)",
   "metadata": {
    "interpreter": {
     "hash": "6b45d0162cdd5c91d561959b3d5dba6622cb2b0529e122ec43d7e160687839d4"
    }
   }
  },
  "language_info": {
   "codemirror_mode": {
    "name": "ipython",
    "version": 3
   },
   "file_extension": ".py",
   "mimetype": "text/x-python",
   "name": "python",
   "nbconvert_exporter": "python",
   "pygments_lexer": "ipython3",
   "version": "3.8.3-final"
  },
  "toc": {
   "base_numbering": 1,
   "nav_menu": {},
   "number_sections": true,
   "sideBar": true,
   "skip_h1_title": false,
   "title_cell": "Table of Contents",
   "title_sidebar": "Contents",
   "toc_cell": true,
   "toc_position": {},
   "toc_section_display": true,
   "toc_window_display": false
  }
 },
 "nbformat": 4,
 "nbformat_minor": 2
}