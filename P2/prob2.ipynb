{
 "cells": [
  {
   "cell_type": "markdown",
   "metadata": {
    "toc": true
   },
   "source": [
    "<h1>Table of Contents<span class=\"tocSkip\"></span></h1>\n",
    "<div class=\"toc\"><ul class=\"toc-item\"></ul></div>"
   ]
  },
  {
   "cell_type": "code",
   "execution_count": 1,
   "metadata": {},
   "outputs": [],
   "source": [
    "from collections import defaultdict \n",
    "import random\n",
    "import numpy as np\n",
    "import copy\n"
   ]
  },
  {
   "cell_type": "code",
   "execution_count": 20,
   "metadata": {},
   "outputs": [],
   "source": [
    "class Graph: \n",
    "    def __init__(self,graph): \n",
    "        self.graph = graph \n",
    "        self.ROW = len(graph) \n",
    "        self.Origingraph = copy.deepcopy(graph) \n",
    "        self.TMPgraph = copy.deepcopy(graph) \n",
    "        self.iter = 0\n",
    "        #初始温度，停止温度与降温系数\n",
    "        self.maxiter = 10000\n",
    "        self.tmp = 1e5\n",
    "        self.tmp_min = 1e-3\n",
    "        self.alpha = 0.98\n",
    "\n",
    "    def bfs(self, s, t, parent):\n",
    "        visited = [False]*self.ROW\n",
    "        queue = [s] \n",
    "        visited[s] = True\n",
    "\n",
    "        while queue: \n",
    "            u = queue.pop(0) \n",
    "            for ind, val in enumerate(self.graph[u]): \n",
    "                if visited[ind] == False and val > 0 : \n",
    "                    queue.append(ind) \n",
    "                    visited[ind] = True\n",
    "                    parent[ind] = u \n",
    "        return True if visited[t] else False\n",
    "    \n",
    "    def FordFulkerson(self, source, sink): \n",
    "        parent = [-1]*self.ROW \n",
    "  \n",
    "        max_flow = 0 \n",
    "        \n",
    "        while self.bfs(source, sink, parent): #判断增广路径 \n",
    "            path_flow, s = float(\"Inf\"), sink\n",
    "            while s != source: \n",
    "                #计算增广路径的最小流量，通过最小流量计算残差网络\n",
    "                path_flow = min(path_flow, self.graph[parent[s]][s]) \n",
    "                s = parent[s] \n",
    "\n",
    "            max_flow += path_flow \n",
    "            v = sink \n",
    "            while v != source: #计算残差网络\n",
    "                u = parent[v] \n",
    "                self.graph[u][v] -= path_flow \n",
    "                self.graph[v][u] += path_flow \n",
    "                v = parent[v] \n",
    "\n",
    "\n",
    "        return max_flow \n",
    "    \n",
    "\n",
    "graph = [[0,  6, 10, 10,  0,  0], \n",
    "         [6,  0,  0,  4,  7,  0], \n",
    "         [10, 0,  0,  1,  14, 0], \n",
    "         [10, 4,  1,  0,  0,  5], \n",
    "         [0,  7, 14,  0,  0, 21], \n",
    "         [0, 0,  0,   5, 21,  0]] \n",
    "\n"
   ]
  },
  {
   "cell_type": "code",
   "execution_count": 21,
   "metadata": {},
   "outputs": [
    {
     "name": "stdout",
     "output_type": "stream",
     "text": [
      "EK Algorithm\n",
      "23\n",
      "[[ 0  0  0  3  0  0]\n",
      " [12  0  0  5  0  0]\n",
      " [20  0  0  2  3  0]\n",
      " [17  3  0  0  0  0]\n",
      " [ 0 14 25  0  0  3]\n",
      " [ 0  0  0 10 39  0]]\n",
      "Wall time: 997 µs\n"
     ]
    }
   ],
   "source": [
    "%%time\n",
    "g = Graph(graph) \n",
    "source = 0; sink = 5\n",
    "print (\"EK Algorithm\")\n",
    "print(g.FordFulkerson(source,sink))\n",
    "print(np.array(g.graph))\n"
   ]
  },
  {
   "cell_type": "code",
   "execution_count": 22,
   "metadata": {},
   "outputs": [],
   "source": [
    "def Bfs(C, F, s, t):  # C is the capacity matrix\n",
    "    n = len(C)\n",
    "    queue = []\n",
    "    queue.append(s)\n",
    "    global level\n",
    "    level = n * [0]  # initialization\n",
    "    level[s] = 1  \n",
    "    while queue:\n",
    "        k = queue.pop(0)\n",
    "        for i in range(n):\n",
    "            if (F[k][i] < C[k][i]) and (level[i] == 0): # not visited\n",
    "                level[i] = level[k] + 1\n",
    "                queue.append(i)\n",
    "    return level[t] > 0\n",
    "\n",
    "#search augmenting path by using DFS\n",
    "def Dfs(C, F, k, cp):\n",
    "    tmp = cp\n",
    "    if k == len(C)-1:\n",
    "        return cp\n",
    "    for i in range(len(C)):\n",
    "        if (level[i] == level[k] + 1) and (F[k][i] < C[k][i]):\n",
    "            f = Dfs(C,F,i,min(tmp,C[k][i] - F[k][i]))\n",
    "            F[k][i] = F[k][i] + f\n",
    "            F[i][k] = F[i][k] - f\n",
    "            tmp = tmp - f\n",
    "    return cp - tmp\n",
    "\n",
    "#calculate max flow\n",
    "#_ = float('inf')\n",
    "def MaxFlow(C,s,t):\n",
    "    n = len(C)\n",
    "    F = [n*[0] for i in range(n)] # F is the flow matrix\n",
    "    flow = 0\n",
    "    while(Bfs(C,F,s,t)):\n",
    "        flow = flow + Dfs(C,F,s,100000)\n",
    "    return flow\n",
    "\n",
    "C = [[0,  6, 10, 10,  0,  0], \n",
    "    [6,  0,  0,  4,  7,  0], \n",
    "    [10, 0,  0,  1,  14, 0], \n",
    "    [10, 4,  1,  0,  0,  5], \n",
    "    [0,  7, 14,  0,  0, 21], \n",
    "    [0, 0,  0,   5, 21,  0]] \n",
    "\n"
   ]
  },
  {
   "cell_type": "code",
   "execution_count": 19,
   "metadata": {},
   "outputs": [
    {
     "name": "stdout",
     "output_type": "stream",
     "text": [
      "Dinic's Algorithm\n",
      "max_flow_value is 23\n",
      "Wall time: 995 µs\n"
     ]
    }
   ],
   "source": [
    "%%time\n",
    "source = 0  \n",
    "sink = 5    \n",
    "print (\"Dinic's Algorithm\")\n",
    "# time0 = time.time()\n",
    "\n",
    "max_flow_value = MaxFlow(C, source, sink)\n",
    "# print(\"Dinic using time \", time.time() - time0)\n",
    "\n",
    "print( \"max_flow_value is\", max_flow_value)"
   ]
  },
  {
   "cell_type": "code",
   "execution_count": 16,
   "metadata": {},
   "outputs": [
    {
     "name": "stdout",
     "output_type": "stream",
     "text": [
      "Push-Relabeled's Algorithm\n",
      "Push-Relabeled using time  0.0\n",
      "max_flow_value is 23\n"
     ]
    }
   ],
   "source": [
    "def MaxFlowReal(C, s, t):\n",
    "    n = len(C) # C is the capacity matrix\n",
    "    F = [[0] * n for i in range(n)]\n",
    "\n",
    "    # the residual capacity from u to v is C[u][v] - F[u][v]\n",
    "    height = [0] * n # height of node\n",
    "    excess = [0] * n # flow into node minus flow from node\n",
    "    seen   = [0] * n # neighbours seen since last relabel\n",
    "    # node \"queue\"\n",
    "    nodelist = [i for i in range(n) if i != s and i != t]\n",
    "\n",
    "     #push operation\n",
    "    def push(u, v):\n",
    "        send = min(excess[u], C[u][v] - F[u][v])\n",
    "        F[u][v] += send\n",
    "        F[v][u] -= send\n",
    "        excess[u] -= send\n",
    "        excess[v] += send\n",
    "\n",
    "     #relabel operation\n",
    "    def relabel(u):\n",
    "        # find smallest new height making a push possible,\n",
    "        # if such a push is possible at all\n",
    "        min_height = float('inf')\n",
    "        for v in range(n):\n",
    "            if C[u][v] - F[u][v] > 0:\n",
    "                min_height = min(min_height, height[v])\n",
    "                height[u] = min_height + 1\n",
    "\n",
    "    def discharge(u):\n",
    "        while excess[u] > 0:\n",
    "            if seen[u] < n: # check next neighbour\n",
    "                v = seen[u]\n",
    "                if C[u][v] - F[u][v] > 0 and height[u] > height[v]:\n",
    "                    push(u, v)\n",
    "                else:\n",
    "                    seen[u] += 1\n",
    "            else: # we have checked all neighbours. must relabel\n",
    "                relabel(u)\n",
    "                seen[u] = 0\n",
    "\n",
    "    height[s] = n   # longest path from source to sink is less than n long\n",
    "    excess[s] = float(\"inf\") # send as much flow as possible to neighbours of source\n",
    "    for v in range(n):\n",
    "         push(s, v)\n",
    "\n",
    "    p = 0\n",
    "    while p < len(nodelist):\n",
    "        u = nodelist[p]\n",
    "        old_height = height[u]\n",
    "        discharge(u)\n",
    "        if height[u] > old_height:\n",
    "            nodelist.insert(0, nodelist.pop(p)) # move to front of list\n",
    "            p = 0 # start from front of list\n",
    "        else:\n",
    "            p += 1\n",
    "    return sum(F[s])\n",
    "\n",
    "\n",
    "C = [[0,  6, 10, 10,  0,  0], \n",
    "    [6,  0,  0,  4,  7,  0], \n",
    "    [10, 0,  0,  1,  14, 0], \n",
    "    [10, 4,  1,  0,  0,  5], \n",
    "    [0,  7, 14,  0,  0, 21], \n",
    "    [0, 0,  0,   5, 21,  0]] \n",
    "\n",
    "source = 0  \n",
    "sink = 5    \n"
   ]
  },
  {
   "cell_type": "code",
   "execution_count": 18,
   "metadata": {},
   "outputs": [
    {
     "name": "stdout",
     "output_type": "stream",
     "text": [
      "Push-Relabeled's Algorithm\n",
      "max_flow_value is 23\n",
      "Wall time: 1.01 ms\n"
     ]
    }
   ],
   "source": [
    "%%time\n",
    "print(\"Push-Relabeled's Algorithm\")\n",
    "max_flow_value = MaxFlowReal(C, source, sink)\n",
    "print( \"max_flow_value is\", max_flow_value)"
   ]
  },
  {
   "cell_type": "code",
   "execution_count": null,
   "metadata": {},
   "outputs": [],
   "source": []
  },
  {
   "cell_type": "code",
   "execution_count": null,
   "metadata": {},
   "outputs": [],
   "source": []
  },
  {
   "cell_type": "code",
   "execution_count": 34,
   "metadata": {},
   "outputs": [],
   "source": []
  },
  {
   "cell_type": "code",
   "execution_count": 49,
   "metadata": {},
   "outputs": [
    {
     "name": "stdout",
     "output_type": "stream",
     "text": [
      "23\n",
      "EK Algorithm\n",
      "[[ 0  0  0  3  0  0]\n",
      " [12  0  0  5  0  0]\n",
      " [20  0  0  2  3  0]\n",
      " [17  3  0  0  0  0]\n",
      " [ 0 14 25  0  0  3]\n",
      " [ 0  0  0 10 39  0]]\n",
      "Wall time: 1.36 s\n"
     ]
    }
   ],
   "source": [
    "%%time\n",
    "for i in range(10000):\n",
    "    graph = [[0,  6, 10, 10,  0,  0], \n",
    "             [6,  0,  0,  4,  7,  0], \n",
    "             [10, 0,  0,  1,  14, 0], \n",
    "             [10, 4,  1,  0,  0,  5], \n",
    "             [0,  7, 14,  0,  0, 21], \n",
    "             [0, 0,  0,   5, 21,  0]] \n",
    "    g = Graph(graph) \n",
    "    source = 0; sink = 5\n",
    "    maxS = g.FordFulkerson(source,sink)\n",
    "\n",
    "print(maxS)\n",
    "print (\"EK Algorithm\")\n",
    "print(np.array(g.graph))\n"
   ]
  },
  {
   "cell_type": "code",
   "execution_count": 50,
   "metadata": {},
   "outputs": [
    {
     "name": "stdout",
     "output_type": "stream",
     "text": [
      "Dinic's Algorithm\n",
      "max_flow_value is 23\n",
      "Wall time: 780 ms\n"
     ]
    }
   ],
   "source": [
    "%%time\n",
    "for i in range(10000):\n",
    "    graph = [[0,  6, 10, 10,  0,  0], \n",
    "             [6,  0,  0,  4,  7,  0], \n",
    "             [10, 0,  0,  1,  14, 0], \n",
    "             [10, 4,  1,  0,  0,  5], \n",
    "             [0,  7, 14,  0,  0, 21], \n",
    "             [0, 0,  0,   5, 21,  0]] \n",
    "    source = 0 ;sink = 5    \n",
    "#     print (\"Dinic's Algorithm\")\n",
    "    max_flow_value = MaxFlow(graph, source, sink)\n",
    "print (\"Dinic's Algorithm\")\n",
    "print( \"max_flow_value is\", max_flow_value)"
   ]
  },
  {
   "cell_type": "code",
   "execution_count": 51,
   "metadata": {},
   "outputs": [
    {
     "name": "stdout",
     "output_type": "stream",
     "text": [
      "Push-Relabeled's Algorithm\n",
      "max_flow_value is 23\n",
      "Wall time: 878 ms\n"
     ]
    }
   ],
   "source": [
    "%%time\n",
    "for i in range(10000):\n",
    "    graph = [[0,  6, 10, 10,  0,  0], \n",
    "             [6,  0,  0,  4,  7,  0], \n",
    "             [10, 0,  0,  1,  14, 0], \n",
    "             [10, 4,  1,  0,  0,  5], \n",
    "             [0,  7, 14,  0,  0, 21], \n",
    "             [0, 0,  0,   5, 21,  0]] \n",
    "    source = 0 ;sink = 5    \n",
    "    \n",
    "    max_flow_value = MaxFlowReal(graph, source, sink)\n",
    "print(\"Push-Relabeled's Algorithm\")\n",
    "print( \"max_flow_value is\", max_flow_value)"
   ]
  },
  {
   "cell_type": "code",
   "execution_count": 52,
   "metadata": {},
   "outputs": [
    {
     "data": {
      "text/plain": [
       "[[0, 6, 10, 10, 0, 0],\n",
       " [6, 0, 0, 4, 7, 0],\n",
       " [10, 0, 0, 1, 14, 0],\n",
       " [10, 4, 1, 0, 0, 5],\n",
       " [0, 7, 14, 0, 0, 21],\n",
       " [0, 0, 0, 5, 21, 0]]"
      ]
     },
     "execution_count": 52,
     "metadata": {},
     "output_type": "execute_result"
    }
   ],
   "source": [
    "graph"
   ]
  },
  {
   "cell_type": "code",
   "execution_count": null,
   "metadata": {},
   "outputs": [],
   "source": []
  }
 ],
 "metadata": {
  "kernelspec": {
   "display_name": "Torch",
   "language": "python",
   "name": "pytorch-gpu"
  },
  "language_info": {
   "codemirror_mode": {
    "name": "ipython",
    "version": 3
   },
   "file_extension": ".py",
   "mimetype": "text/x-python",
   "name": "python",
   "nbconvert_exporter": "python",
   "pygments_lexer": "ipython3",
   "version": "3.6.4"
  },
  "toc": {
   "base_numbering": 1,
   "nav_menu": {},
   "number_sections": true,
   "sideBar": true,
   "skip_h1_title": false,
   "title_cell": "Table of Contents",
   "title_sidebar": "Contents",
   "toc_cell": true,
   "toc_position": {},
   "toc_section_display": true,
   "toc_window_display": false
  }
 },
 "nbformat": 4,
 "nbformat_minor": 2
}
